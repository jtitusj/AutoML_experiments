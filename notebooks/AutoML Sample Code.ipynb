{
 "cells": [
  {
   "cell_type": "code",
   "execution_count": 8,
   "metadata": {},
   "outputs": [],
   "source": [
    "import time\n",
    "\n",
    "# benchmark model\n",
    "from xgboost import XGBClassifier\n",
    "\n",
    "# automl modules\n",
    "from autosklearn.classification import AutoSklearnClassifier\n",
    "from tpot import TPOTClassifier\n",
    "\n",
    "# sklearn functions\n",
    "from sklearn import datasets\n",
    "from sklearn.model_selection import train_test_split\n",
    "from sklearn.metrics import accuracy_score\n",
    "\n",
    "%matplotlib inline"
   ]
  },
  {
   "cell_type": "markdown",
   "metadata": {},
   "source": [
    "## Load Data"
   ]
  },
  {
   "cell_type": "code",
   "execution_count": 7,
   "metadata": {},
   "outputs": [
    {
     "name": "stdout",
     "output_type": "stream",
     "text": [
      "X_train shape: (426, 30), y_train shape: (426,)\n",
      "X_test shape: (143, 30), y_test shape: (143,)\n"
     ]
    }
   ],
   "source": [
    "X, y = datasets.load_breast_cancer(return_X_y=True)\n",
    "X_train, X_test, y_train, y_test = train_test_split(X, y)\n",
    "print(f'X_train shape: {X_train.shape}, y_train shape: {y_train.shape}')\n",
    "print(f'X_test shape: {X_test.shape}, y_test shape: {y_test.shape}')"
   ]
  },
  {
   "cell_type": "markdown",
   "metadata": {},
   "source": [
    "## xgboost benchmark"
   ]
  },
  {
   "cell_type": "code",
   "execution_count": 12,
   "metadata": {},
   "outputs": [
    {
     "name": "stdout",
     "output_type": "stream",
     "text": [
      "Accuracy score: 0.9650\n",
      "Elapsed time: 0.0823s\n"
     ]
    }
   ],
   "source": [
    "time_start = time.time()\n",
    "clf = XGBClassifier()\n",
    "clf.fit(X_train, y_train)\n",
    "y_hat = clf.predict(X_test)\n",
    "time_elapsed = time.time() - time_start\n",
    "print(f\"Accuracy score: {accuracy_score(y_test, y_hat):.4f}\")\n",
    "print(f\"Elapsed time: {time_elapsed:.4f}s\")"
   ]
  },
  {
   "cell_type": "markdown",
   "metadata": {},
   "source": [
    "## auto-sklearn"
   ]
  },
  {
   "cell_type": "code",
   "execution_count": 13,
   "metadata": {},
   "outputs": [
    {
     "name": "stdout",
     "output_type": "stream",
     "text": [
      "[WARNING] [2020-03-26 16:57:28,698:EnsembleBuilder(1):ed7a0dc68e245f996e228e8d25ce010a] No models better than random - using Dummy Score!\n",
      "[WARNING] [2020-03-26 16:57:28,719:EnsembleBuilder(1):ed7a0dc68e245f996e228e8d25ce010a] No models better than random - using Dummy Score!\n",
      "Time limit for a single run is higher than total time limit. Capping the limit for a single run to the total time given to SMAC (299.659966)\n",
      "Accuracy score: 0.9510\n",
      "Elapsed time: 294.4967s\n"
     ]
    }
   ],
   "source": [
    "time_start = time.time()\n",
    "clf = AutoSklearnClassifier(time_left_for_this_task=300)\n",
    "clf.fit(X_train, y_train)\n",
    "y_hat = clf.predict(X_test)\n",
    "time_elapsed = time.time() - time_start\n",
    "print(f\"Accuracy score: {accuracy_score(y_test, y_hat):.4f}\")\n",
    "print(f\"Elapsed time: {time_elapsed:.4f}s\")"
   ]
  },
  {
   "cell_type": "markdown",
   "metadata": {},
   "source": [
    "## tpot"
   ]
  },
  {
   "cell_type": "code",
   "execution_count": 14,
   "metadata": {
    "scrolled": true
   },
   "outputs": [
    {
     "data": {
      "application/vnd.jupyter.widget-view+json": {
       "model_id": "6ba451c1f6e7429fa571d6fdc478007e",
       "version_major": 2,
       "version_minor": 0
      },
      "text/plain": [
       "HBox(children=(FloatProgress(value=0.0, description='Optimization Progress', style=ProgressStyle(description_w…"
      ]
     },
     "metadata": {},
     "output_type": "display_data"
    },
    {
     "name": "stdout",
     "output_type": "stream",
     "text": [
      "Generation 1 - Current best internal CV score: 0.9764132629796105\n",
      "Generation 2 - Current best internal CV score: 0.9764412741840923\n",
      "Generation 3 - Current best internal CV score: 0.9764419256074524\n",
      "\n",
      "5.01 minutes have elapsed. TPOT will close down.\n",
      "TPOT closed during evaluation in one generation.\n",
      "WARNING: TPOT may not provide a good pipeline if TPOT is stopped/interrupted in a early generation.\n",
      "\n",
      "\n",
      "TPOT closed prematurely. Will use the current best pipeline.\n",
      "\n",
      "Best pipeline: GradientBoostingClassifier(RFE(StandardScaler(input_matrix), criterion=entropy, max_features=0.9500000000000001, n_estimators=100, step=0.25), learning_rate=0.1, max_depth=10, max_features=0.4, min_samples_leaf=13, min_samples_split=20, n_estimators=100, subsample=0.6000000000000001)\n",
      "Accuracy score: 0.9650\n",
      "Elapsed time: 302.0887s\n"
     ]
    }
   ],
   "source": [
    "time_start = time.time()\n",
    "clf = TPOTClassifier(generations=5, verbosity=2, max_time_mins=5)\n",
    "clf.fit(X_train, y_train)\n",
    "y_hat = clf.predict(X_test)\n",
    "time_elapsed = time.time() - time_start\n",
    "print(f\"Accuracy score: {accuracy_score(y_test, y_hat):.4f}\")\n",
    "print(f\"Elapsed time: {time_elapsed:.4f}s\")"
   ]
  },
  {
   "cell_type": "markdown",
   "metadata": {},
   "source": [
    "## Summary\n",
    "\n",
    "From above, we compare the performance of out-of-the-box **XGBoost** with **auto-sklearn** and **TPOT** with time capped at 5 minutes. XGBoost achieves performs best and runs fast. TPOT achieves the same performance after 5 minutes while auto-sklearn lagged behind."
   ]
  }
 ],
 "metadata": {
  "kernelspec": {
   "display_name": "Python 3",
   "language": "python",
   "name": "python3"
  },
  "language_info": {
   "codemirror_mode": {
    "name": "ipython",
    "version": 3
   },
   "file_extension": ".py",
   "mimetype": "text/x-python",
   "name": "python",
   "nbconvert_exporter": "python",
   "pygments_lexer": "ipython3",
   "version": "3.7.6"
  },
  "toc": {
   "base_numbering": 1,
   "nav_menu": {},
   "number_sections": true,
   "sideBar": true,
   "skip_h1_title": false,
   "title_cell": "Table of Contents",
   "title_sidebar": "Contents",
   "toc_cell": false,
   "toc_position": {},
   "toc_section_display": true,
   "toc_window_display": false
  }
 },
 "nbformat": 4,
 "nbformat_minor": 4
}
